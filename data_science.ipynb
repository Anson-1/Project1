{
  "nbformat": 4,
  "nbformat_minor": 0,
  "metadata": {
    "colab": {
      "provenance": []
    },
    "kernelspec": {
      "name": "python3",
      "display_name": "Python 3"
    },
    "language_info": {
      "name": "python"
    }
  },
  "cells": [
    {
      "cell_type": "markdown",
      "source": [
        "Title"
      ],
      "metadata": {
        "id": "j9r0JfIXKhEl"
      }
    },
    {
      "cell_type": "markdown",
      "source": [
        "Introduction"
      ],
      "metadata": {
        "id": "UvwOWDKOKlBg"
      }
    },
    {
      "cell_type": "markdown",
      "source": [
        "Python, R, SQL\n",
        "\n"
      ],
      "metadata": {
        "id": "vaVk4pRHKpqy"
      }
    },
    {
      "cell_type": "markdown",
      "source": [
        "Python:\n",
        "NumPy\n",
        "Pandas\n",
        "Scikit-learn\n",
        "Matplotlib"
      ],
      "metadata": {
        "id": "AdIldmccK3p5"
      }
    },
    {
      "cell_type": "markdown",
      "source": [
        "Jupyter Notebook\n",
        "R studio"
      ],
      "metadata": {
        "id": "vNgO1rE4LCwh"
      }
    },
    {
      "cell_type": "markdown",
      "source": [
        "3 + 5 = 8"
      ],
      "metadata": {
        "id": "bdMa3iQ_LPmx"
      }
    },
    {
      "cell_type": "code",
      "source": [
        "print(3+5)\n",
        "print(3*5)"
      ],
      "metadata": {
        "colab": {
          "base_uri": "https://localhost:8080/"
        },
        "id": "7xvTgbrLKo2T",
        "outputId": "930d6ee8-2d11-43b9-8510-ac866ca92da5"
      },
      "execution_count": 1,
      "outputs": [
        {
          "output_type": "stream",
          "name": "stdout",
          "text": [
            "8\n",
            "15\n"
          ]
        }
      ]
    },
    {
      "cell_type": "code",
      "source": [
        "min = 60\n",
        "hour = min/60\n",
        "print(hour)"
      ],
      "metadata": {
        "colab": {
          "base_uri": "https://localhost:8080/"
        },
        "id": "yZ8PPO-RLVN-",
        "outputId": "6f334098-8d4f-4f82-d80d-faf734bfb61c"
      },
      "execution_count": 2,
      "outputs": [
        {
          "output_type": "stream",
          "name": "stdout",
          "text": [
            "1.0\n"
          ]
        }
      ]
    },
    {
      "cell_type": "markdown",
      "source": [
        "list Objectives"
      ],
      "metadata": {
        "id": "QcdauKAbLl3V"
      }
    },
    {
      "cell_type": "markdown",
      "source": [
        "Anson\n"
      ],
      "metadata": {
        "id": "Kg-q_q75Lop7"
      }
    },
    {
      "cell_type": "code",
      "source": [],
      "metadata": {
        "id": "XRUNxstHLdS6"
      },
      "execution_count": null,
      "outputs": []
    }
  ]
}